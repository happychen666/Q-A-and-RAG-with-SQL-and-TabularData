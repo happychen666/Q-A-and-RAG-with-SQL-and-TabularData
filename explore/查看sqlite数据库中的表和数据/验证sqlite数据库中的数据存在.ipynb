{
 "cells": [
  {
   "cell_type": "code",
   "execution_count": 5,
   "id": "81ccb4a5-5a70-45fd-9734-8b9de9d6d473",
   "metadata": {},
   "outputs": [
    {
     "name": "stdout",
     "output_type": "stream",
     "text": [
      "Available tables in the database: ['cancer', 'diabetes']\n",
      "\n",
      "Data from table 'cancer':\n",
      "(1, 4, 1, 1, 1, 2, 1, 1, 1, 1)\n",
      "(2, 1, 1, 2, 1, 2, 1, 2, 1, 1)\n",
      "(3, 3, 1, 1, 1, 1, 1, 2, 1, 1)\n",
      "(4, 6, 1, 1, 3, 2, 1, 1, 1, 1)\n",
      "(5, 6, 1, 1, 1, 1, 1, 1, 1, 1)\n",
      "\n",
      "Data from table 'diabetes':\n",
      "(6, 148, 72, 35, 0, 33.6, 0.627, 50, 1)\n",
      "(1, 85, 66, 29, 0, 26.6, 0.351, 31, 0)\n",
      "(8, 183, 64, 0, 0, 23.3, 0.672, 32, 1)\n",
      "(1, 89, 66, 23, 94, 28.1, 0.167, 21, 0)\n",
      "(0, 137, 40, 35, 168, 43.1, 2.288, 33, 1)\n"
     ]
    }
   ],
   "source": [
    "import pandas as pd\n",
    "from pyprojroot import here\n",
    "from sqlalchemy import create_engine, inspect,text\n",
    "\n",
    "\n",
    "db_path = str(here(\"data\")) + \"/csv_xlsx_sqldb.db\"\n",
    "db_path = f\"sqlite:///{db_path}\"\n",
    "\n",
    "engine = create_engine(db_path)\n",
    "\n",
    "def list_tables_and_data(engine):\n",
    "    # 列出所有表名\n",
    "    insp = inspect(engine)\n",
    "    table_names = insp.get_table_names()\n",
    "    print(\"Available tables in the database:\", table_names)\n",
    "    \n",
    "    # 遍历每张表并打印前5行数据\n",
    "    with engine.connect() as connection:\n",
    "        for table in table_names:\n",
    "            print(f\"\\nData from table '{table}':\")\n",
    "            query = text(f\"SELECT * FROM {table} LIMIT 5;\")\n",
    "            result = connection.execute(query)\n",
    "            for row in result:\n",
    "                print(row)\n",
    "\n",
    "list_tables_and_data(engine)"
   ]
  },
  {
   "cell_type": "code",
   "execution_count": null,
   "id": "4ef43b18-9325-4ef9-b82b-82ba7aaba9c7",
   "metadata": {},
   "outputs": [],
   "source": []
  }
 ],
 "metadata": {
  "kernelspec": {
   "display_name": "Python (env-name)",
   "language": "python",
   "name": "env-name"
  },
  "language_info": {
   "codemirror_mode": {
    "name": "ipython",
    "version": 3
   },
   "file_extension": ".py",
   "mimetype": "text/x-python",
   "name": "python",
   "nbconvert_exporter": "python",
   "pygments_lexer": "ipython3",
   "version": "3.10.16"
  }
 },
 "nbformat": 4,
 "nbformat_minor": 5
}
